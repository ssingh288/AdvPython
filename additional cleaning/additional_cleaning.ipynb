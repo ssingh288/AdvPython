{
 "cells": [
  {
   "cell_type": "code",
   "execution_count": 1,
   "metadata": {},
   "outputs": [],
   "source": [
    "import pandas as pd\n",
    "\n",
    "\n",
    "####### data should be in the same currency"
   ]
  },
  {
   "cell_type": "code",
   "execution_count": 8,
   "metadata": {},
   "outputs": [],
   "source": [
    "df = pd.read_excel(\"credits.xlsx\",\"DATA\")\n"
   ]
  },
  {
   "cell_type": "code",
   "execution_count": 10,
   "metadata": {},
   "outputs": [],
   "source": [
    "# OR SET INDEX\n",
    "df.index=df.ID"
   ]
  },
  {
   "cell_type": "code",
   "execution_count": 16,
   "metadata": {},
   "outputs": [],
   "source": [
    "df = df.drop(\"ID\", axis=1)"
   ]
  },
  {
   "cell_type": "code",
   "execution_count": 19,
   "metadata": {},
   "outputs": [
    {
     "data": {
      "text/html": [
       "<div>\n",
       "<style scoped>\n",
       "    .dataframe tbody tr th:only-of-type {\n",
       "        vertical-align: middle;\n",
       "    }\n",
       "\n",
       "    .dataframe tbody tr th {\n",
       "        vertical-align: top;\n",
       "    }\n",
       "\n",
       "    .dataframe thead th {\n",
       "        text-align: right;\n",
       "    }\n",
       "</style>\n",
       "<table border=\"1\" class=\"dataframe\">\n",
       "  <thead>\n",
       "    <tr style=\"text-align: right;\">\n",
       "      <th></th>\n",
       "      <th>INDUSTRY_GROUP</th>\n",
       "      <th>INDUSTRY</th>\n",
       "      <th>SECTOR</th>\n",
       "      <th>CURRENCY</th>\n",
       "      <th>DEFAULT_PROB</th>\n",
       "      <th>NBR_EMPLOYEES</th>\n",
       "      <th>EMPL_GROWTH</th>\n",
       "      <th>PCT_WOMEN_EMPLOYEES</th>\n",
       "      <th>PCT_WOMEN_MGT</th>\n",
       "      <th>WHISTLE_BLOWER_POLICY</th>\n",
       "      <th>...</th>\n",
       "      <th>DIVIDEND_YIELD</th>\n",
       "      <th>MARKETCAP</th>\n",
       "      <th>TOTAL_ASSETS</th>\n",
       "      <th>TOTAL_LIABILITIES</th>\n",
       "      <th>CURRENT_ASSETS</th>\n",
       "      <th>EBIT</th>\n",
       "      <th>RETAINED_EARNINGS</th>\n",
       "      <th>SALES</th>\n",
       "      <th>SALES_GROWTH</th>\n",
       "      <th>INTEREST_EXPENSES</th>\n",
       "    </tr>\n",
       "    <tr>\n",
       "      <th>ID</th>\n",
       "      <th></th>\n",
       "      <th></th>\n",
       "      <th></th>\n",
       "      <th></th>\n",
       "      <th></th>\n",
       "      <th></th>\n",
       "      <th></th>\n",
       "      <th></th>\n",
       "      <th></th>\n",
       "      <th></th>\n",
       "      <th></th>\n",
       "      <th></th>\n",
       "      <th></th>\n",
       "      <th></th>\n",
       "      <th></th>\n",
       "      <th></th>\n",
       "      <th></th>\n",
       "      <th></th>\n",
       "      <th></th>\n",
       "      <th></th>\n",
       "      <th></th>\n",
       "    </tr>\n",
       "  </thead>\n",
       "  <tbody>\n",
       "    <tr>\n",
       "      <th>1</th>\n",
       "      <td>Materials</td>\n",
       "      <td>Chemicals</td>\n",
       "      <td>Materials</td>\n",
       "      <td>EDM</td>\n",
       "      <td>0.611768</td>\n",
       "      <td>113830</td>\n",
       "      <td>1.240717</td>\n",
       "      <td>24.600000</td>\n",
       "      <td>19.799999</td>\n",
       "      <td>Y</td>\n",
       "      <td>...</td>\n",
       "      <td>3.066857</td>\n",
       "      <td>8.970781e+10</td>\n",
       "      <td>76496.000</td>\n",
       "      <td>43928.000</td>\n",
       "      <td>25946.000</td>\n",
       "      <td>6426.000</td>\n",
       "      <td>31515.00</td>\n",
       "      <td>57550.000</td>\n",
       "      <td>-18.309699</td>\n",
       "      <td>661.000</td>\n",
       "    </tr>\n",
       "    <tr>\n",
       "      <th>2</th>\n",
       "      <td>Semiconductors &amp; Semiconductor</td>\n",
       "      <td>Semiconductors &amp; Semiconductor</td>\n",
       "      <td>Information Technology</td>\n",
       "      <td>EDM</td>\n",
       "      <td>0.728919</td>\n",
       "      <td>36962</td>\n",
       "      <td>1.826497</td>\n",
       "      <td>37.299999</td>\n",
       "      <td>NaN</td>\n",
       "      <td>Y</td>\n",
       "      <td>...</td>\n",
       "      <td>0.866824</td>\n",
       "      <td>2.881740e+10</td>\n",
       "      <td>9945.000</td>\n",
       "      <td>4309.000</td>\n",
       "      <td>4871.000</td>\n",
       "      <td>983.000</td>\n",
       "      <td>-1404.00</td>\n",
       "      <td>7063.000</td>\n",
       "      <td>9.114784</td>\n",
       "      <td>63.000</td>\n",
       "    </tr>\n",
       "    <tr>\n",
       "      <th>3</th>\n",
       "      <td>Food, Beverage &amp; Tobacco</td>\n",
       "      <td>Tobacco</td>\n",
       "      <td>Consumer Staples</td>\n",
       "      <td>GBP</td>\n",
       "      <td>0.724798</td>\n",
       "      <td>85335</td>\n",
       "      <td>-2.560033</td>\n",
       "      <td>22.000000</td>\n",
       "      <td>16.000000</td>\n",
       "      <td>Y</td>\n",
       "      <td>...</td>\n",
       "      <td>1.977479</td>\n",
       "      <td>1.161037e+11</td>\n",
       "      <td>39773.000</td>\n",
       "      <td>31367.000</td>\n",
       "      <td>12359.000</td>\n",
       "      <td>4653.000</td>\n",
       "      <td>8384.00</td>\n",
       "      <td>14751.000</td>\n",
       "      <td>12.568681</td>\n",
       "      <td>746.000</td>\n",
       "    </tr>\n",
       "    <tr>\n",
       "      <th>4</th>\n",
       "      <td>Retailing</td>\n",
       "      <td>Specialty Retail</td>\n",
       "      <td>Consumer Discretionary</td>\n",
       "      <td>EES</td>\n",
       "      <td>0.656409</td>\n",
       "      <td>162450</td>\n",
       "      <td>6.277886</td>\n",
       "      <td>76.000000</td>\n",
       "      <td>NaN</td>\n",
       "      <td>Y</td>\n",
       "      <td>...</td>\n",
       "      <td>2.380952</td>\n",
       "      <td>8.901158e+10</td>\n",
       "      <td>19621.435</td>\n",
       "      <td>6869.881</td>\n",
       "      <td>9898.347</td>\n",
       "      <td>4020.734</td>\n",
       "      <td>12675.09</td>\n",
       "      <td>23310.532</td>\n",
       "      <td>11.531303</td>\n",
       "      <td>7.635</td>\n",
       "    </tr>\n",
       "    <tr>\n",
       "      <th>5</th>\n",
       "      <td>Food, Beverage &amp; Tobacco</td>\n",
       "      <td>Food Products</td>\n",
       "      <td>Consumer Staples</td>\n",
       "      <td>CHF</td>\n",
       "      <td>0.482876</td>\n",
       "      <td>328000</td>\n",
       "      <td>-2.089552</td>\n",
       "      <td>34.599998</td>\n",
       "      <td>27.200001</td>\n",
       "      <td>Y</td>\n",
       "      <td>...</td>\n",
       "      <td>2.795333</td>\n",
       "      <td>2.560685e+11</td>\n",
       "      <td>131901.000</td>\n",
       "      <td>65920.000</td>\n",
       "      <td>32042.000</td>\n",
       "      <td>13163.000</td>\n",
       "      <td>82870.00</td>\n",
       "      <td>89786.000</td>\n",
       "      <td>0.789152</td>\n",
       "      <td>543.000</td>\n",
       "    </tr>\n",
       "  </tbody>\n",
       "</table>\n",
       "<p>5 rows × 31 columns</p>\n",
       "</div>"
      ],
      "text/plain": [
       "                    INDUSTRY_GROUP                        INDUSTRY  \\\n",
       "ID                                                                   \n",
       "1                        Materials                       Chemicals   \n",
       "2   Semiconductors & Semiconductor  Semiconductors & Semiconductor   \n",
       "3         Food, Beverage & Tobacco                         Tobacco   \n",
       "4                        Retailing                Specialty Retail   \n",
       "5         Food, Beverage & Tobacco                   Food Products   \n",
       "\n",
       "                    SECTOR CURRENCY  DEFAULT_PROB  NBR_EMPLOYEES  EMPL_GROWTH  \\\n",
       "ID                                                                              \n",
       "1                Materials      EDM      0.611768         113830     1.240717   \n",
       "2   Information Technology      EDM      0.728919          36962     1.826497   \n",
       "3         Consumer Staples      GBP      0.724798          85335    -2.560033   \n",
       "4   Consumer Discretionary      EES      0.656409         162450     6.277886   \n",
       "5         Consumer Staples      CHF      0.482876         328000    -2.089552   \n",
       "\n",
       "    PCT_WOMEN_EMPLOYEES  PCT_WOMEN_MGT WHISTLE_BLOWER_POLICY  ...  \\\n",
       "ID                                                            ...   \n",
       "1             24.600000      19.799999                     Y  ...   \n",
       "2             37.299999            NaN                     Y  ...   \n",
       "3             22.000000      16.000000                     Y  ...   \n",
       "4             76.000000            NaN                     Y  ...   \n",
       "5             34.599998      27.200001                     Y  ...   \n",
       "\n",
       "   DIVIDEND_YIELD     MARKETCAP TOTAL_ASSETS TOTAL_LIABILITIES  \\\n",
       "ID                                                               \n",
       "1        3.066857  8.970781e+10    76496.000         43928.000   \n",
       "2        0.866824  2.881740e+10     9945.000          4309.000   \n",
       "3        1.977479  1.161037e+11    39773.000         31367.000   \n",
       "4        2.380952  8.901158e+10    19621.435          6869.881   \n",
       "5        2.795333  2.560685e+11   131901.000         65920.000   \n",
       "\n",
       "    CURRENT_ASSETS       EBIT  RETAINED_EARNINGS      SALES  SALES_GROWTH  \\\n",
       "ID                                                                          \n",
       "1        25946.000   6426.000           31515.00  57550.000    -18.309699   \n",
       "2         4871.000    983.000           -1404.00   7063.000      9.114784   \n",
       "3        12359.000   4653.000            8384.00  14751.000     12.568681   \n",
       "4         9898.347   4020.734           12675.09  23310.532     11.531303   \n",
       "5        32042.000  13163.000           82870.00  89786.000      0.789152   \n",
       "\n",
       "    INTEREST_EXPENSES  \n",
       "ID                     \n",
       "1             661.000  \n",
       "2              63.000  \n",
       "3             746.000  \n",
       "4               7.635  \n",
       "5             543.000  \n",
       "\n",
       "[5 rows x 31 columns]"
      ]
     },
     "execution_count": 19,
     "metadata": {},
     "output_type": "execute_result"
    }
   ],
   "source": [
    "df.head()"
   ]
  },
  {
   "cell_type": "code",
   "execution_count": 23,
   "metadata": {},
   "outputs": [
    {
     "data": {
      "text/plain": [
       "(3933, 31)"
      ]
     },
     "execution_count": 23,
     "metadata": {},
     "output_type": "execute_result"
    }
   ],
   "source": [
    "df.shape"
   ]
  },
  {
   "cell_type": "code",
   "execution_count": 21,
   "metadata": {},
   "outputs": [
    {
     "data": {
      "text/plain": [
       "CURRENCY                 3535\n",
       "EMPL_GROWTH               124\n",
       "PCT_WOMEN_EMPLOYEES      3303\n",
       "PCT_WOMEN_MGT            3605\n",
       "WHISTLE_BLOWER_POLICY    2003\n",
       "ETHICS_POLICY            1998\n",
       "BRIBERY_POLICY           2013\n",
       "VOLATILITY_180D             4\n",
       "PCT_CHG_1_YEAR             46\n",
       "PCT_CHG_6_M                 4\n",
       "dtype: int64"
      ]
     },
     "execution_count": 21,
     "metadata": {},
     "output_type": "execute_result"
    }
   ],
   "source": [
    "null_cols = df.isnull().sum()\n",
    "null_cols[null_cols > 0]"
   ]
  },
  {
   "cell_type": "code",
   "execution_count": 25,
   "metadata": {},
   "outputs": [
    {
     "data": {
      "text/plain": [
       "GBP    105\n",
       "EUR     62\n",
       "EDM     41\n",
       "EFR     41\n",
       "SEK     30\n",
       "CHF     22\n",
       "EIL     18\n",
       "DKK     16\n",
       "EES     14\n",
       "EDG     12\n",
       "NOK     10\n",
       "EFM      9\n",
       "EBF      6\n",
       "EIP      5\n",
       "EAS      4\n",
       "EPE      2\n",
       "EGD      1\n",
       "Name: CURRENCY, dtype: int64"
      ]
     },
     "execution_count": 25,
     "metadata": {},
     "output_type": "execute_result"
    }
   ],
   "source": [
    "df.CURRENCY.value_counts()"
   ]
  },
  {
   "cell_type": "code",
   "execution_count": 36,
   "metadata": {},
   "outputs": [
    {
     "data": {
      "text/plain": [
       "['BELGIUM',\n",
       " 'NORWAY',\n",
       " 'SWITZERLAND',\n",
       " 'BRITAIN',\n",
       " 'FRANCE',\n",
       " 'CAYMAN ISLANDS',\n",
       " 'INDIA',\n",
       " 'DENMARK',\n",
       " 'ISRAEL',\n",
       " 'CANADA',\n",
       " 'AUSTRIA',\n",
       " 'LUXEMBOURG',\n",
       " 'SPAIN',\n",
       " 'SWEDEN',\n",
       " 'BERMUDA',\n",
       " 'THAILAND',\n",
       " 'JAPAN',\n",
       " 'UNITED STATES',\n",
       " 'SOUTH AFRICA',\n",
       " 'FINLAND',\n",
       " 'GERMANY',\n",
       " 'JERSEY',\n",
       " 'CHINA',\n",
       " 'MONACO',\n",
       " 'GREECE',\n",
       " 'IRELAND',\n",
       " 'NETHERLANDS',\n",
       " 'PUERTO RICO',\n",
       " 'PORTUGAL',\n",
       " 'ITALY']"
      ]
     },
     "execution_count": 36,
     "metadata": {},
     "output_type": "execute_result"
    }
   ],
   "source": [
    "# get currency by country name\n",
    "\n",
    "countries = [i for i in df.COUNTRY_NAME]\n",
    "countrylist=list(set(countries))\n",
    "countrylist"
   ]
  },
  {
   "cell_type": "code",
   "execution_count": 37,
   "metadata": {},
   "outputs": [
    {
     "name": "stdout",
     "output_type": "stream",
     "text": [
      "Collecting easymoney\n",
      "  Downloading https://files.pythonhosted.org/packages/90/b5/7df93f96c9d3f7fa0b057d3bd90b72c595ce49d4bc50ace535cf8743841c/easymoney-1.5.0.tar.gz\n",
      "Requirement already satisfied: numpy in c:\\users\\arty\\anaconda3\\lib\\site-packages (from easymoney) (1.16.2)\n",
      "Requirement already satisfied: pandas in c:\\users\\arty\\anaconda3\\lib\\site-packages (from easymoney) (0.24.2)\n",
      "Requirement already satisfied: pycountry in c:\\users\\arty\\anaconda3\\lib\\site-packages (from easymoney) (18.12.8)\n",
      "Requirement already satisfied: requests in c:\\users\\arty\\anaconda3\\lib\\site-packages (from easymoney) (2.21.0)\n",
      "Collecting wbdata (from easymoney)\n",
      "  Downloading https://files.pythonhosted.org/packages/d8/a0/c83a8cb001885685f8344f4a6d3557ec3de73d367aea82dbb519aa6d2706/wbdata-0.2.7.tar.gz\n",
      "Requirement already satisfied: pytz>=2011k in c:\\users\\arty\\anaconda3\\lib\\site-packages (from pandas->easymoney) (2018.9)\n",
      "Requirement already satisfied: python-dateutil>=2.5.0 in c:\\users\\arty\\anaconda3\\lib\\site-packages (from pandas->easymoney) (2.8.0)\n",
      "Requirement already satisfied: idna<2.9,>=2.5 in c:\\users\\arty\\anaconda3\\lib\\site-packages (from requests->easymoney) (2.8)\n",
      "Requirement already satisfied: urllib3<1.25,>=1.21.1 in c:\\users\\arty\\anaconda3\\lib\\site-packages (from requests->easymoney) (1.24.1)\n",
      "Requirement already satisfied: chardet<3.1.0,>=3.0.2 in c:\\users\\arty\\anaconda3\\lib\\site-packages (from requests->easymoney) (3.0.4)\n",
      "Requirement already satisfied: certifi>=2017.4.17 in c:\\users\\arty\\anaconda3\\lib\\site-packages (from requests->easymoney) (2019.3.9)\n",
      "Requirement already satisfied: decorator in c:\\users\\arty\\anaconda3\\lib\\site-packages (from wbdata->easymoney) (4.4.0)\n",
      "Requirement already satisfied: six>=1.5 in c:\\users\\arty\\anaconda3\\lib\\site-packages (from python-dateutil>=2.5.0->pandas->easymoney) (1.12.0)\n",
      "Building wheels for collected packages: easymoney, wbdata\n",
      "  Building wheel for easymoney (setup.py): started\n",
      "  Building wheel for easymoney (setup.py): finished with status 'done'\n",
      "  Stored in directory: C:\\Users\\Arty\\AppData\\Local\\pip\\Cache\\wheels\\0a\\85\\7f\\9241e28ec82fc671032f9367b429dab07983f4b63375d40792\n",
      "  Building wheel for wbdata (setup.py): started\n",
      "  Building wheel for wbdata (setup.py): finished with status 'done'\n",
      "  Stored in directory: C:\\Users\\Arty\\AppData\\Local\\pip\\Cache\\wheels\\57\\61\\6a\\3978e90cf2f9443b94ce56b4fa839850da9076e697be3a27e3\n",
      "Successfully built easymoney wbdata\n",
      "Installing collected packages: wbdata, easymoney\n",
      "Successfully installed easymoney-1.5.0 wbdata-0.2.7\n",
      "Note: you may need to restart the kernel to use updated packages.\n"
     ]
    }
   ],
   "source": [
    "pip install easymoney"
   ]
  },
  {
   "cell_type": "markdown",
   "metadata": {},
   "source": [
    "ep.currency_converter(amount=100, from_currency=\"France\", to_currency=\"Germany\", pretty_print=True)\n",
    "\n",
    "100.00 EUR"
   ]
  }
 ],
 "metadata": {
  "kernelspec": {
   "display_name": "Python 3",
   "language": "python",
   "name": "python3"
  },
  "language_info": {
   "codemirror_mode": {
    "name": "ipython",
    "version": 3
   },
   "file_extension": ".py",
   "mimetype": "text/x-python",
   "name": "python",
   "nbconvert_exporter": "python",
   "pygments_lexer": "ipython3",
   "version": "3.7.3"
  }
 },
 "nbformat": 4,
 "nbformat_minor": 2
}

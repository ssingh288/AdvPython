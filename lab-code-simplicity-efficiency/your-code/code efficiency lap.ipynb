{
 "cells": [
  {
   "cell_type": "markdown",
   "metadata": {},
   "source": [
    "# Challenge 1"
   ]
  },
  {
   "cell_type": "code",
   "execution_count": 6,
   "metadata": {},
   "outputs": [
    {
     "name": "stdout",
     "output_type": "stream",
     "text": [
      "Collecting words2num\n",
      "  Downloading https://files.pythonhosted.org/packages/dc/e3/22192e0b8ece6d9da20a066fb713929911ea015d663bf4cbe4016d9022da/words2num-0.2.3-py3-none-any.whl\n",
      "Installing collected packages: words2num\n",
      "Successfully installed words2num-0.2.3\n",
      "Note: you may need to restart the kernel to use updated packages.\n"
     ]
    }
   ],
   "source": [
    "pip install words2num"
   ]
  },
  {
   "cell_type": "code",
   "execution_count": 1,
   "metadata": {},
   "outputs": [],
   "source": [
    "from words2num import words2num\n",
    "#I haven't done any error handling"
   ]
  },
  {
   "cell_type": "code",
   "execution_count": 2,
   "metadata": {},
   "outputs": [
    {
     "name": "stdout",
     "output_type": "stream",
     "text": [
      "Type your two numbers in letters, separated by a space.two six\n",
      "Now type either 'plus' to add or 'minus' to substract your numbers. minus\n",
      "-4\n"
     ]
    }
   ],
   "source": [
    "nbs = (input(\"Type your two numbers in letters, separated by a space.\")).split()\n",
    "operator = input(\"Now type either 'plus' to add or 'minus' to substract your numbers. \")\n",
    "\n",
    "if operator == \"plus\":\n",
    "    print(words2num(nbs[0])+words2num(nbs[1]))\n",
    "elif operator == \"minus\":\n",
    "    print(words2num(nbs[0])-words2num(nbs[1]))"
   ]
  },
  {
   "cell_type": "markdown",
   "metadata": {},
   "source": [
    "# Challenge 2"
   ]
  },
  {
   "cell_type": "code",
   "execution_count": null,
   "metadata": {},
   "outputs": [],
   "source": [
    "\"\"\"\n",
    "The code below generates a given number of random strings that consists of numbers and \n",
    "lower case English letters. You can also define the range of the variable lengths of\n",
    "the strings being generated.\"\"\""
   ]
  },
  {
   "cell_type": "code",
   "execution_count": 14,
   "metadata": {},
   "outputs": [
    {
     "name": "stdout",
     "output_type": "stream",
     "text": [
      "Please type the minimum and maximum length of strings you wish, separated by a space.10 15\n",
      "Please input the number of strings you wish in your list.4\n"
     ]
    },
    {
     "data": {
      "text/plain": [
       "['zn7ulragkb5hx', 'nouh0g1c5ps4xf', 'ezcw073lxi58y', 'bvj1m03z9gl']"
      ]
     },
     "execution_count": 14,
     "metadata": {},
     "output_type": "execute_result"
    }
   ],
   "source": [
    "import random\n",
    "import string\n",
    "\n",
    "\n",
    "def randstr(strlen):\n",
    "    elements = [j for i in (string.digits + string.ascii_lowercase).split() for j in i]\n",
    "    return \"\".join(random.sample(elements, strlen))\n",
    "\n",
    "def final_list(nbstrs, mini, maxi):\n",
    "    \n",
    "    liste = []\n",
    "    for i in range(nbstrs):\n",
    "        liste.append(randstr(random.randint(mini,maxi)))\n",
    "        \n",
    "    return liste\n",
    "\n",
    "    \n",
    "nbs = (input(\"Please type the minimum and maximum length of strings you wish, separated by a space.\")).split()\n",
    "maxi = int(max(nbs))\n",
    "mini = int(min(nbs))\n",
    "nbstrs = int(input(\"Please input the number of strings you wish in your list.\"))\n",
    "final_list(nbstrs, mini, maxi)"
   ]
  },
  {
   "cell_type": "markdown",
   "metadata": {},
   "source": [
    "# Challenge 3"
   ]
  },
  {
   "cell_type": "code",
   "execution_count": 18,
   "metadata": {},
   "outputs": [
    {
     "name": "stdout",
     "output_type": "stream",
     "text": [
      "What is the maximal length of the triangle side? Enter a number: 56\n",
      "The longest side possible is 55\n"
     ]
    }
   ],
   "source": [
    "\"\"\"\n",
    "You are presented with an integer number larger than 5. Your goal is to identify the longest side\n",
    "possible in a right triangle whose sides are not longer than the number you are given.\n",
    "\n",
    "For example, if you are given the number 15, there are 3 possibilities to compose right triangles:\n",
    "\n",
    "1. [3, 4, 5]\n",
    "2. [6, 8, 10]\n",
    "3. [5, 12, 13]\n",
    "\n",
    "The following function shows one way to solve the problem but the code is not ideal or efficient.\n",
    "Refactor the code based on what you have learned about code simplicity and efficiency.\n",
    "\"\"\"\n",
    "\n",
    "def my_function(X):\n",
    "    solutions = []\n",
    "    for x in range(5, X):\n",
    "        for y in range(4, X):\n",
    "            for z in range(3, X):\n",
    "                if (x*x==y*y+z*z):\n",
    "                  solutions.append([x, y, z])\n",
    "    m = 0\n",
    "    for solution in solutions:\n",
    "        if m < max(solution):\n",
    "            m = max(solution)\n",
    "    return m\n",
    "\n",
    "X = input(\"What is the maximal length of the triangle side? Enter a number: \")\n",
    "\n",
    "print(\"The longest side possible is \" + str(my_function(int(X))))\n"
   ]
  },
  {
   "cell_type": "code",
   "execution_count": null,
   "metadata": {},
   "outputs": [],
   "source": []
  },
  {
   "cell_type": "code",
   "execution_count": null,
   "metadata": {},
   "outputs": [],
   "source": []
  }
 ],
 "metadata": {
  "kernelspec": {
   "display_name": "Python 3",
   "language": "python",
   "name": "python3"
  },
  "language_info": {
   "codemirror_mode": {
    "name": "ipython",
    "version": 3
   },
   "file_extension": ".py",
   "mimetype": "text/x-python",
   "name": "python",
   "nbconvert_exporter": "python",
   "pygments_lexer": "ipython3",
   "version": "3.7.3"
  }
 },
 "nbformat": 4,
 "nbformat_minor": 2
}

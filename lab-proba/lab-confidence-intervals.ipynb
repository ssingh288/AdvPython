{
 "cells": [
  {
   "cell_type": "markdown",
   "metadata": {},
   "source": [
    "# Challenge 1\n",
    "We want to estimate the average size of the men of a country with a confidence level of 80%. Assuming that the standard deviation of the sizes in the population is 4, get the confidence interval with a sample of men selected randomly, whose heights are:\n",
    "\n",
    "167 167 168 168 168 169 171 172 173 175 175 175 177 182 195"
   ]
  },
  {
   "cell_type": "code",
   "execution_count": 19,
   "metadata": {},
   "outputs": [],
   "source": [
    "import numpy as np\n",
    "import math\n",
    "import scipy.stats"
   ]
  },
  {
   "cell_type": "code",
   "execution_count": 15,
   "metadata": {},
   "outputs": [
    {
     "data": {
      "text/plain": [
       "[172.07755663982695, 174.85577669350639]"
      ]
     },
     "execution_count": 15,
     "metadata": {},
     "output_type": "execute_result"
    }
   ],
   "source": [
    "heights_str ='167 167 168 168 168 169 171 172 173 175 175 175 177 182 195'\n",
    "heights = [int(i) for i in heights_str.split()]\n",
    "sigma = 4\n",
    "µ = np.mean(heights)\n",
    "sp_size = len(heights)\n",
    "t = 1.345   # from t-table, with confidence = 80% for n = 15-1\n",
    "#we know the standard deviation, however our sample size is under 30, so we will use a t_test \n",
    "# to get the t value\n",
    "\n",
    "a = mu - t*(sigma/math.sqrt(sp_size))\n",
    "b = mu + t*(sigma/math.sqrt(sp_size))\n",
    "conf_inter = [a,b]\n",
    "conf_inter"
   ]
  },
  {
   "cell_type": "markdown",
   "metadata": {},
   "source": [
    "# Challenge 2 \n",
    "In a sample of 105 shops selected randomly from an area, we note that 27 of them have had losses in this month. Get an confidence interval for the proportion of businesses in the area with losses, to a confidence level \n",
    "* of 80% "
   ]
  },
  {
   "cell_type": "code",
   "execution_count": 28,
   "metadata": {},
   "outputs": [
    {
     "data": {
      "text/plain": [
       "[0.2024622585720815, 0.31182345571363274]"
      ]
     },
     "execution_count": 28,
     "metadata": {},
     "output_type": "execute_result"
    }
   ],
   "source": [
    "# http://davidmlane.com/hyperstat/B9168.html\n",
    "\n",
    "sp_size= 105\n",
    "loss_shops = 27\n",
    "loss_proportion = loss_shops/sp_size\n",
    "\n",
    "stand_error = math.sqrt((loss_proportion*(1-loss_proportion))/sp_size)\n",
    "z = 1.282   #in t-table, this is a fixed value depending on confidence %\n",
    "propor_inter = [loss_proportion-z*stand_error,loss_proportion+z*stand_error]\n",
    "propor_inter"
   ]
  },
  {
   "cell_type": "markdown",
   "metadata": {},
   "source": [
    "# Challenge 3 - To practice more\n",
    "For the same example above, calculate a confidence interval for the variance at 90% level."
   ]
  },
  {
   "cell_type": "code",
   "execution_count": 29,
   "metadata": {},
   "outputs": [
    {
     "data": {
      "text/plain": [
       "[0.1869793745773923, 0.3273063397083219]"
      ]
     },
     "execution_count": 29,
     "metadata": {},
     "output_type": "execute_result"
    }
   ],
   "source": [
    "z = 1.645  #in t-table, this is a fixed value depending on confidence %\n",
    "propor_inter = [loss_proportion-z*stand_error,loss_proportion+z*stand_error]\n",
    "propor_inter"
   ]
  },
  {
   "cell_type": "markdown",
   "metadata": {},
   "source": [
    "# Challenge 4 - To practice more\n",
    "The sulfuric acid content of 7 similar containers is 9.8, 10.2, 10.4, 9.8, 10.0, 10.2 and 9.6 liters. Calculate a 95% confidence interval for the average content of all containers assuming an approximately normal distribution.\n",
    "\n",
    "\n"
   ]
  },
  {
   "cell_type": "code",
   "execution_count": 25,
   "metadata": {},
   "outputs": [
    {
     "data": {
      "text/plain": [
       "[9.738404696416119, 10.261595303583881]"
      ]
     },
     "execution_count": 25,
     "metadata": {},
     "output_type": "execute_result"
    }
   ],
   "source": [
    "acid = [9.8, 10.2, 10.4, 9.8, 10.0, 10.2, 9.6]\n",
    "µ = np.mean(acid)\n",
    "sp_size = len(acid)\n",
    "\n",
    "t = 2.447   # from t-table, with confidence = 95% for n = 7-1\n",
    "sigma = np.std(acid, ddof=1)\n",
    "\n",
    "a =µ - t*(sigma/math.sqrt(sp_size))\n",
    "b =µ + t*(sigma/math.sqrt(sp_size))\n",
    "conf_inter = [a,b]\n",
    "conf_inter"
   ]
  },
  {
   "cell_type": "markdown",
   "metadata": {},
   "source": [
    "# Bonus challenge\n",
    "The error level or sampling error for the first challenge is given by the following expression:\n",
    "$$Error = z_{\\frac{\\alpha}{2}}\\frac{\\sigma}{\\sqrt n}$$\n",
    "Where z represents the value for N(0,1)\n",
    "\n",
    "\n",
    "Suppose that with the previous data in the challenge 1, and with a confidence level of\n",
    "99% (that is, almost certainly) we want to estimate the average population size, so that the error level committed is not greater than half a centimeter.\n",
    "\n",
    "i) Determine what size the selected sample of men should be."
   ]
  },
  {
   "cell_type": "code",
   "execution_count": null,
   "metadata": {},
   "outputs": [],
   "source": [
    "#heights_str ='167 167 168 168 168 169 171 172 173 175 175 175 177 182 195'\n",
    "#heights = [int(i) for i in heights_str.split()]\n",
    "sigma = 4\n",
    "µ = np.mean(heights)\n",
    "sp_size = len(heights)\n",
    "t = 4.140  # from t-table, with confidence = 99% for n = 15-1\n",
    "#we know the standard deviation, however our sample size is under 30, so we will use a t_test \n",
    "\n",
    "a = µ - t*(sigma/math.sqrt(sp_size))\n",
    "b = µ + t*(sigma/math.sqrt(sp_size))\n",
    "conf_inter = [a,b]\n",
    "conf_inter"
   ]
  },
  {
   "cell_type": "markdown",
   "metadata": {},
   "source": [
    "ii) For the second challenge, we have the following error:\n",
    "$$ Error = z_{\\frac{\\alpha}{2}}\\sqrt{\\frac{p\\times q}{n}} $$\n",
    "Determine the sample required to not exceed a certain error"
   ]
  },
  {
   "cell_type": "markdown",
   "metadata": {},
   "source": [
    "For the last case, determine the sample size needed so that the error will not\n",
    "exceed 1%, with a confidence of 80%."
   ]
  },
  {
   "cell_type": "code",
   "execution_count": null,
   "metadata": {},
   "outputs": [],
   "source": []
  },
  {
   "cell_type": "markdown",
   "metadata": {},
   "source": [
    "# Bonus challenge"
   ]
  },
  {
   "cell_type": "markdown",
   "metadata": {},
   "source": [
    "Let's consider the following problem:\n",
    "\n",
    "Build a confidence interval of 94% for the real difference between the durations of two brands of spotlights, if a sample of 40 spotlights taken randomly from the first mark gave an average duration of 418 hours, and a sample of 50 bulbs of another brand gave a duration average of 402 hours. The standard deviations of the two\n",
    "populations are 26 hours and 22 hours, respectively.\n",
    "\n",
    "Sometimes, we will be interested in the difference of two different groups of random variables. We can also build a confidence interval for that! We have some different cases regarding the variance but for this specific case (the variance are different and known), we have that:\n",
    "\n",
    "$$\\overline{X} - \\overline{Y}  \\sim N(\\mu_{X} - \\mu_{Y} , \\sqrt{\\frac{\\sigma_{X}^2}{n_X}+\\frac{\\sigma_{Y}^2}{n_Y}})$$\n",
    "\n",
    "Solve the problem with this information."
   ]
  },
  {
   "cell_type": "code",
   "execution_count": null,
   "metadata": {},
   "outputs": [],
   "source": []
  }
 ],
 "metadata": {
  "kernelspec": {
   "display_name": "Python 3",
   "language": "python",
   "name": "python3"
  },
  "language_info": {
   "codemirror_mode": {
    "name": "ipython",
    "version": 3
   },
   "file_extension": ".py",
   "mimetype": "text/x-python",
   "name": "python",
   "nbconvert_exporter": "python",
   "pygments_lexer": "ipython3",
   "version": "3.7.3"
  }
 },
 "nbformat": 4,
 "nbformat_minor": 2
}
